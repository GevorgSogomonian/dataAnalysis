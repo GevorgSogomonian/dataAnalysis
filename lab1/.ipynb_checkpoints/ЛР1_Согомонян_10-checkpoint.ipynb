{
 "cells": [
  {
   "cell_type": "markdown",
   "metadata": {
    "id": "bri_pAriNFqN"
   },
   "source": [
    "**Цель работы:**\n",
    "\n",
    "Осуществить предварительную обработку данных csv-файла, выявить и устранить проблемы в этих данных."
   ]
  },
  {
   "cell_type": "markdown",
   "metadata": {
    "id": "r_e-GeJmgZ8l"
   },
   "source": [
    "# Загрузка набора данных"
   ]
  },
  {
   "cell_type": "markdown",
   "metadata": {
    "id": "eeq9ZAbSguQS"
   },
   "source": [
    "### Описание предметной области"
   ]
  },
  {
   "cell_type": "markdown",
   "metadata": {
    "id": "XHbH8zNIg0Ib"
   },
   "source": [
    "Вариант №10\n",
    "\n",
    "Набор данных: auto.csv\n",
    "\n",
    "Атрибуты: "
   ]
  },
  {
   "cell_type": "markdown",
   "metadata": {
    "id": "Lwin9ia7hT1i"
   },
   "source": [
    "### 1.Чтение файла (набора данных)"
   ]
  },
  {
   "cell_type": "code",
   "execution_count": 15,
   "metadata": {
    "id": "a5dYQO5YhOYa"
   },
   "outputs": [],
   "source": [
    "# импорт библиотек, чтение файла с помощью pandas\n",
    "import pandas as pd\n",
    "# чтение таблицы auto.csv\n",
    "df = pd.read_csv('auto.csv')"
   ]
  },
  {
   "cell_type": "markdown",
   "metadata": {},
   "source": [
    "Таким образом у нас теперь есть переменная df, которая хранит данные auto.csv в виде объекта DataFrame библиотеки pandas."
   ]
  },
  {
   "cell_type": "markdown",
   "metadata": {
    "id": "p82p53SvhjLN"
   },
   "source": [
    "### 2. Обзор данных"
   ]
  },
  {
   "cell_type": "markdown",
   "metadata": {
    "id": "eAYzXaLrh-qh"
   },
   "source": [
    "2.1 Вывод первых 20 строк с помощью метода head."
   ]
  },
  {
   "cell_type": "code",
   "execution_count": 5,
   "metadata": {
    "id": "7yMo3VZ_hotx"
   },
   "outputs": [
    {
     "data": {
      "text/html": [
       "<div>\n",
       "<style scoped>\n",
       "    .dataframe tbody tr th:only-of-type {\n",
       "        vertical-align: middle;\n",
       "    }\n",
       "\n",
       "    .dataframe tbody tr th {\n",
       "        vertical-align: top;\n",
       "    }\n",
       "\n",
       "    .dataframe thead th {\n",
       "        text-align: right;\n",
       "    }\n",
       "</style>\n",
       "<table border=\"1\" class=\"dataframe\">\n",
       "  <thead>\n",
       "    <tr style=\"text-align: right;\">\n",
       "      <th></th>\n",
       "      <th>Name</th>\n",
       "      <th>year</th>\n",
       "      <th>SellingPrice</th>\n",
       "      <th>kmdriven</th>\n",
       "      <th>fuel</th>\n",
       "      <th>seller_Type</th>\n",
       "      <th>transmission</th>\n",
       "      <th>owner</th>\n",
       "    </tr>\n",
       "  </thead>\n",
       "  <tbody>\n",
       "    <tr>\n",
       "      <th>0</th>\n",
       "      <td>Maruti 800 AC</td>\n",
       "      <td>2007</td>\n",
       "      <td>60000.0</td>\n",
       "      <td>70000.0</td>\n",
       "      <td>Petrol</td>\n",
       "      <td>Individual</td>\n",
       "      <td>Manual</td>\n",
       "      <td>First Owner</td>\n",
       "    </tr>\n",
       "    <tr>\n",
       "      <th>1</th>\n",
       "      <td>Maruti Wagon R LXI Minor</td>\n",
       "      <td>2007</td>\n",
       "      <td>135000.0</td>\n",
       "      <td>50000.0</td>\n",
       "      <td>Petrol</td>\n",
       "      <td>Individual</td>\n",
       "      <td>Manual</td>\n",
       "      <td>First Owner</td>\n",
       "    </tr>\n",
       "    <tr>\n",
       "      <th>2</th>\n",
       "      <td>Hyundai Verna 1.6 SX</td>\n",
       "      <td>2012</td>\n",
       "      <td>600000.0</td>\n",
       "      <td>100000.0</td>\n",
       "      <td>Diesel</td>\n",
       "      <td>Individual</td>\n",
       "      <td>Manual</td>\n",
       "      <td>First Owner</td>\n",
       "    </tr>\n",
       "    <tr>\n",
       "      <th>3</th>\n",
       "      <td>Datsun RediGO T Option</td>\n",
       "      <td>2017</td>\n",
       "      <td>250000.0</td>\n",
       "      <td>46000.0</td>\n",
       "      <td>Petrol</td>\n",
       "      <td>Individual</td>\n",
       "      <td>Manual</td>\n",
       "      <td>First Owner</td>\n",
       "    </tr>\n",
       "    <tr>\n",
       "      <th>4</th>\n",
       "      <td>Honda Amaze VX i-DTEC</td>\n",
       "      <td>2014</td>\n",
       "      <td>450000.0</td>\n",
       "      <td>141000.0</td>\n",
       "      <td>Diesel</td>\n",
       "      <td>Individual</td>\n",
       "      <td>Manual</td>\n",
       "      <td>Second Owner</td>\n",
       "    </tr>\n",
       "    <tr>\n",
       "      <th>5</th>\n",
       "      <td>Maruti Alto LX BSIII</td>\n",
       "      <td>2007</td>\n",
       "      <td>140000.0</td>\n",
       "      <td>125000.0</td>\n",
       "      <td>Petrol</td>\n",
       "      <td>Individual</td>\n",
       "      <td>Manual</td>\n",
       "      <td>First Owner</td>\n",
       "    </tr>\n",
       "    <tr>\n",
       "      <th>6</th>\n",
       "      <td>Hyundai Xcent 1.2 Kappa S</td>\n",
       "      <td>2016</td>\n",
       "      <td>550000.0</td>\n",
       "      <td>25000.0</td>\n",
       "      <td>Petrol</td>\n",
       "      <td>Individual</td>\n",
       "      <td>Manual</td>\n",
       "      <td>First Owner</td>\n",
       "    </tr>\n",
       "    <tr>\n",
       "      <th>7</th>\n",
       "      <td>Tata Indigo Grand Petroll</td>\n",
       "      <td>2014</td>\n",
       "      <td>240000.0</td>\n",
       "      <td>60000.0</td>\n",
       "      <td>Petrol</td>\n",
       "      <td>Individual</td>\n",
       "      <td>Manual</td>\n",
       "      <td>Second Owner</td>\n",
       "    </tr>\n",
       "    <tr>\n",
       "      <th>8</th>\n",
       "      <td>Hyundai Creta 1.6 VTVT S</td>\n",
       "      <td>2015</td>\n",
       "      <td>850000.0</td>\n",
       "      <td>25000.0</td>\n",
       "      <td>Petroll</td>\n",
       "      <td>Individual</td>\n",
       "      <td>Manual</td>\n",
       "      <td>First Owner</td>\n",
       "    </tr>\n",
       "    <tr>\n",
       "      <th>9</th>\n",
       "      <td>Maruti Celerio Green VXI</td>\n",
       "      <td>2017</td>\n",
       "      <td>365000.0</td>\n",
       "      <td>78000.0</td>\n",
       "      <td>CNG</td>\n",
       "      <td>Individual</td>\n",
       "      <td>Manual</td>\n",
       "      <td>First Owner</td>\n",
       "    </tr>\n",
       "    <tr>\n",
       "      <th>10</th>\n",
       "      <td>Chevrolet Sail 1.2 Base</td>\n",
       "      <td>2015</td>\n",
       "      <td>260000.0</td>\n",
       "      <td>35000.0</td>\n",
       "      <td>Petrol</td>\n",
       "      <td>Individual</td>\n",
       "      <td>Manual</td>\n",
       "      <td>First Owner</td>\n",
       "    </tr>\n",
       "    <tr>\n",
       "      <th>11</th>\n",
       "      <td>Tata Indigo Grand Petrol</td>\n",
       "      <td>2014</td>\n",
       "      <td>250000.0</td>\n",
       "      <td>100000.0</td>\n",
       "      <td>Petrol</td>\n",
       "      <td>Individual</td>\n",
       "      <td>Manual</td>\n",
       "      <td>First Owner</td>\n",
       "    </tr>\n",
       "    <tr>\n",
       "      <th>12</th>\n",
       "      <td>Toyota Corolla Altis 1.8 VL CVT</td>\n",
       "      <td>2018</td>\n",
       "      <td>1650000.0</td>\n",
       "      <td>25000.0</td>\n",
       "      <td>Petrol</td>\n",
       "      <td>Dealer</td>\n",
       "      <td>Automatic</td>\n",
       "      <td>First Owner</td>\n",
       "    </tr>\n",
       "    <tr>\n",
       "      <th>13</th>\n",
       "      <td>Maruti 800 AC</td>\n",
       "      <td>2007</td>\n",
       "      <td>60000.0</td>\n",
       "      <td>70000.0</td>\n",
       "      <td>Petrol</td>\n",
       "      <td>Individual</td>\n",
       "      <td>Manual</td>\n",
       "      <td>First Owner</td>\n",
       "    </tr>\n",
       "    <tr>\n",
       "      <th>14</th>\n",
       "      <td>Maruti Wagon R LXI Minor</td>\n",
       "      <td>2007</td>\n",
       "      <td>135000.0</td>\n",
       "      <td>50000.0</td>\n",
       "      <td>Petrol</td>\n",
       "      <td>Individual</td>\n",
       "      <td>Manual</td>\n",
       "      <td>First Owner</td>\n",
       "    </tr>\n",
       "    <tr>\n",
       "      <th>15</th>\n",
       "      <td>Hyundai Verna 1.6 SX</td>\n",
       "      <td>2012</td>\n",
       "      <td>600000.0</td>\n",
       "      <td>100000.0</td>\n",
       "      <td>Diesel</td>\n",
       "      <td>Individual</td>\n",
       "      <td>Manual</td>\n",
       "      <td>First Owner</td>\n",
       "    </tr>\n",
       "    <tr>\n",
       "      <th>16</th>\n",
       "      <td>Datsun RediGO T Option</td>\n",
       "      <td>2017</td>\n",
       "      <td>250000.0</td>\n",
       "      <td>46000.0</td>\n",
       "      <td>Petrol</td>\n",
       "      <td>Individual</td>\n",
       "      <td>Manual</td>\n",
       "      <td>First Owner</td>\n",
       "    </tr>\n",
       "    <tr>\n",
       "      <th>17</th>\n",
       "      <td>Honda Amaze VX i-DTEC</td>\n",
       "      <td>2014</td>\n",
       "      <td>450000.0</td>\n",
       "      <td>141000.0</td>\n",
       "      <td>Diesel</td>\n",
       "      <td>Individual</td>\n",
       "      <td>Manual</td>\n",
       "      <td>Second Owner</td>\n",
       "    </tr>\n",
       "    <tr>\n",
       "      <th>18</th>\n",
       "      <td>Maruti Alto LX BSIII</td>\n",
       "      <td>2007</td>\n",
       "      <td>140000.0</td>\n",
       "      <td>125000.0</td>\n",
       "      <td>Petrol</td>\n",
       "      <td>Individual</td>\n",
       "      <td>Manual</td>\n",
       "      <td>First Owner</td>\n",
       "    </tr>\n",
       "    <tr>\n",
       "      <th>19</th>\n",
       "      <td>Hyundai Xcent 1.2 Kappa S</td>\n",
       "      <td>2016</td>\n",
       "      <td>550000.0</td>\n",
       "      <td>25000.0</td>\n",
       "      <td>Petrol</td>\n",
       "      <td>Individual</td>\n",
       "      <td>Manual</td>\n",
       "      <td>First Owner</td>\n",
       "    </tr>\n",
       "  </tbody>\n",
       "</table>\n",
       "</div>"
      ],
      "text/plain": [
       "                               Name  year  SellingPrice  kmdriven     fuel  \\\n",
       "0                     Maruti 800 AC  2007       60000.0   70000.0   Petrol   \n",
       "1          Maruti Wagon R LXI Minor  2007      135000.0   50000.0   Petrol   \n",
       "2              Hyundai Verna 1.6 SX  2012      600000.0  100000.0   Diesel   \n",
       "3            Datsun RediGO T Option  2017      250000.0   46000.0   Petrol   \n",
       "4             Honda Amaze VX i-DTEC  2014      450000.0  141000.0   Diesel   \n",
       "5              Maruti Alto LX BSIII  2007      140000.0  125000.0   Petrol   \n",
       "6         Hyundai Xcent 1.2 Kappa S  2016      550000.0   25000.0   Petrol   \n",
       "7         Tata Indigo Grand Petroll  2014      240000.0   60000.0   Petrol   \n",
       "8          Hyundai Creta 1.6 VTVT S  2015      850000.0   25000.0  Petroll   \n",
       "9          Maruti Celerio Green VXI  2017      365000.0   78000.0      CNG   \n",
       "10          Chevrolet Sail 1.2 Base  2015      260000.0   35000.0   Petrol   \n",
       "11         Tata Indigo Grand Petrol  2014      250000.0  100000.0   Petrol   \n",
       "12  Toyota Corolla Altis 1.8 VL CVT  2018     1650000.0   25000.0   Petrol   \n",
       "13                    Maruti 800 AC  2007       60000.0   70000.0   Petrol   \n",
       "14         Maruti Wagon R LXI Minor  2007      135000.0   50000.0   Petrol   \n",
       "15             Hyundai Verna 1.6 SX  2012      600000.0  100000.0   Diesel   \n",
       "16           Datsun RediGO T Option  2017      250000.0   46000.0   Petrol   \n",
       "17            Honda Amaze VX i-DTEC  2014      450000.0  141000.0   Diesel   \n",
       "18             Maruti Alto LX BSIII  2007      140000.0  125000.0   Petrol   \n",
       "19        Hyundai Xcent 1.2 Kappa S  2016      550000.0   25000.0   Petrol   \n",
       "\n",
       "   seller_Type transmission         owner  \n",
       "0   Individual       Manual   First Owner  \n",
       "1   Individual       Manual   First Owner  \n",
       "2   Individual       Manual   First Owner  \n",
       "3   Individual       Manual   First Owner  \n",
       "4   Individual       Manual  Second Owner  \n",
       "5   Individual       Manual   First Owner  \n",
       "6   Individual       Manual   First Owner  \n",
       "7   Individual       Manual  Second Owner  \n",
       "8   Individual       Manual   First Owner  \n",
       "9   Individual       Manual   First Owner  \n",
       "10  Individual       Manual   First Owner  \n",
       "11  Individual       Manual   First Owner  \n",
       "12      Dealer    Automatic   First Owner  \n",
       "13  Individual       Manual   First Owner  \n",
       "14  Individual       Manual   First Owner  \n",
       "15  Individual       Manual   First Owner  \n",
       "16  Individual       Manual   First Owner  \n",
       "17  Individual       Manual  Second Owner  \n",
       "18  Individual       Manual   First Owner  \n",
       "19  Individual       Manual   First Owner  "
      ]
     },
     "execution_count": 5,
     "metadata": {},
     "output_type": "execute_result"
    }
   ],
   "source": [
    "# применить метод head\n",
    "df.head(20) # чтение первых 20-ти строк из df"
   ]
  },
  {
   "cell_type": "markdown",
   "metadata": {
    "id": "Ze-lXxLMhpWv"
   },
   "source": [
    "2.2 Оценка данных с помощью метода info."
   ]
  },
  {
   "cell_type": "code",
   "execution_count": 5,
   "metadata": {
    "id": "bjhngmaLiGM-"
   },
   "outputs": [
    {
     "name": "stdout",
     "output_type": "stream",
     "text": [
      "<class 'pandas.core.frame.DataFrame'>\n",
      "RangeIndex: 4344 entries, 0 to 4343\n",
      "Data columns (total 8 columns):\n",
      " #   Column        Non-Null Count  Dtype  \n",
      "---  ------        --------------  -----  \n",
      " 0   Name          4344 non-null   object \n",
      " 1   year          4344 non-null   int64  \n",
      " 2   SellingPrice  4342 non-null   float64\n",
      " 3   kmdriven      4343 non-null   float64\n",
      " 4   fuel          4343 non-null   object \n",
      " 5   seller_Type   4344 non-null   object \n",
      " 6   transmission  4344 non-null   object \n",
      " 7   owner         4344 non-null   object \n",
      "dtypes: float64(2), int64(1), object(5)\n",
      "memory usage: 271.6+ KB\n"
     ]
    }
   ],
   "source": [
    "# выполнит метод info\n",
    "df.info()"
   ]
  },
  {
   "cell_type": "markdown",
   "metadata": {},
   "source": [
    "Метод info() в pandas используется для вывода краткой и полезной сводки о DataFrame.\n",
    "Он позволяет быстро оценить структуру и качество данных, выявить пропущенные значения, проверить типы данных и понять объем занимаемой памяти. Метод особенно полезен на начальном этапе анализа данных для планирования дальнейших шагов обработки и исследования."
   ]
  },
  {
   "cell_type": "markdown",
   "metadata": {
    "id": "06PDq9DAiMAY"
   },
   "source": [
    "2.3 Оценка данных с помощью метода describe."
   ]
  },
  {
   "cell_type": "code",
   "execution_count": 4,
   "metadata": {
    "id": "cTVFwzO1jQfN"
   },
   "outputs": [
    {
     "name": "stdout",
     "output_type": "stream",
     "text": [
      "The history saving thread hit an unexpected error (OperationalError('attempt to write a readonly database')).History will not be written to the database.\n"
     ]
    },
    {
     "data": {
      "text/html": [
       "<div>\n",
       "<style scoped>\n",
       "    .dataframe tbody tr th:only-of-type {\n",
       "        vertical-align: middle;\n",
       "    }\n",
       "\n",
       "    .dataframe tbody tr th {\n",
       "        vertical-align: top;\n",
       "    }\n",
       "\n",
       "    .dataframe thead th {\n",
       "        text-align: right;\n",
       "    }\n",
       "</style>\n",
       "<table border=\"1\" class=\"dataframe\">\n",
       "  <thead>\n",
       "    <tr style=\"text-align: right;\">\n",
       "      <th></th>\n",
       "      <th>year</th>\n",
       "      <th>SellingPrice</th>\n",
       "      <th>kmdriven</th>\n",
       "    </tr>\n",
       "  </thead>\n",
       "  <tbody>\n",
       "    <tr>\n",
       "      <th>count</th>\n",
       "      <td>4344.000000</td>\n",
       "      <td>4.342000e+03</td>\n",
       "      <td>4343.000000</td>\n",
       "    </tr>\n",
       "    <tr>\n",
       "      <th>mean</th>\n",
       "      <td>2013.092311</td>\n",
       "      <td>5.039987e+05</td>\n",
       "      <td>66193.063320</td>\n",
       "    </tr>\n",
       "    <tr>\n",
       "      <th>std</th>\n",
       "      <td>4.214543</td>\n",
       "      <td>5.784465e+05</td>\n",
       "      <td>46636.648764</td>\n",
       "    </tr>\n",
       "    <tr>\n",
       "      <th>min</th>\n",
       "      <td>1992.000000</td>\n",
       "      <td>2.000000e+04</td>\n",
       "      <td>1.000000</td>\n",
       "    </tr>\n",
       "    <tr>\n",
       "      <th>25%</th>\n",
       "      <td>2011.000000</td>\n",
       "      <td>2.100000e+05</td>\n",
       "      <td>35000.000000</td>\n",
       "    </tr>\n",
       "    <tr>\n",
       "      <th>50%</th>\n",
       "      <td>2014.000000</td>\n",
       "      <td>3.500000e+05</td>\n",
       "      <td>60000.000000</td>\n",
       "    </tr>\n",
       "    <tr>\n",
       "      <th>75%</th>\n",
       "      <td>2016.000000</td>\n",
       "      <td>6.000000e+05</td>\n",
       "      <td>90000.000000</td>\n",
       "    </tr>\n",
       "    <tr>\n",
       "      <th>max</th>\n",
       "      <td>2020.000000</td>\n",
       "      <td>8.900000e+06</td>\n",
       "      <td>806599.000000</td>\n",
       "    </tr>\n",
       "  </tbody>\n",
       "</table>\n",
       "</div>"
      ],
      "text/plain": [
       "              year  SellingPrice       kmdriven\n",
       "count  4344.000000  4.342000e+03    4343.000000\n",
       "mean   2013.092311  5.039987e+05   66193.063320\n",
       "std       4.214543  5.784465e+05   46636.648764\n",
       "min    1992.000000  2.000000e+04       1.000000\n",
       "25%    2011.000000  2.100000e+05   35000.000000\n",
       "50%    2014.000000  3.500000e+05   60000.000000\n",
       "75%    2016.000000  6.000000e+05   90000.000000\n",
       "max    2020.000000  8.900000e+06  806599.000000"
      ]
     },
     "execution_count": 4,
     "metadata": {},
     "output_type": "execute_result"
    }
   ],
   "source": [
    "# оцените числовые столбцы с помощью describe\n",
    "\n",
    "df.describe()"
   ]
  },
  {
   "cell_type": "markdown",
   "metadata": {},
   "source": [
    "Метод describe() используется для получения описательной статистики по данным DataFrame. Он вычисляет основные статистические показатели, которые помогают быстро понять распределение и характеристики данных."
   ]
  },
  {
   "cell_type": "markdown",
   "metadata": {
    "id": "oOZUrZGuiGqc"
   },
   "source": [
    "\n",
    "---\n",
    "\n",
    "**Сделать выводы. Вы должны понимать, что означает тот или иной столбец, чтобы\n",
    " ответить на вопросы на защите.**\n",
    "\n",
    "\n",
    " ---\n"
   ]
  },
  {
   "cell_type": "markdown",
   "metadata": {},
   "source": [
    "Столбец year\n",
    "- Диапазон лет автомобилей: от 1992 до 2020 года.\n",
    "- Средний год выпуска: примерно 2013.\n",
    "- Медиана (50%): 2014, то есть половина машин новее 2014 года, половина — старее.\n",
    "- Стандартное отклонение (std): около 4.2, что говорит о довольно широком разбросе по годам производства.\n",
    "\n",
    "Столбец SellingPrice\n",
    "- Цены варьируются от 20 000 до 890 000.\n",
    "- Средняя цена продажи около 504 000.\n",
    "- Медианная продажная цена: 350 000.\n",
    "- Первый квартиль (25%): 210 000, третий квартиль (75%): 650 000, что наглядно показывает распределение цен.\n",
    "- Стандартное отклонение: 578 000, то есть цены сильно различаются между машинами.\n",
    "\n",
    "Столбец kmdriven\n",
    "- Средний пробег: 66 193 км.\n",
    "- Медианный пробег: 60 000 км, типичный показатель для подержанных машин.\n",
    "- Минимальный пробег: 1 км.\n",
    "- Максимальный пробег: 806 599 км, что указывает на очень «прожившие» авто.\n",
    "- Квартильные значения помогают увидеть распределение — 25% авто имеют пробег ниже 35 000 км, 75% — ниже 89 000 км.\n",
    "\n",
    "Общие выводы\n",
    "- Данные охватывают широкий диапазон лет, цен и пробегов.\n",
    "- Большая вариативность по всем признакам.\n",
    "- Медиана во всех случаях отличается от среднего, что может говорить о наличии выбросов."
   ]
  },
  {
   "cell_type": "markdown",
   "metadata": {
    "id": "JTbo0IGDiHxn"
   },
   "source": [
    " 2.4 Оценка названий столбцов"
   ]
  },
  {
   "cell_type": "code",
   "execution_count": 7,
   "metadata": {
    "id": "9NEyi2Odik3e"
   },
   "outputs": [
    {
     "data": {
      "text/plain": [
       "Index(['Name', 'year', 'SellingPrice', 'kmdriven', 'fuel', 'seller_Type',\n",
       "       'transmission', 'owner'],\n",
       "      dtype='object')"
      ]
     },
     "execution_count": 7,
     "metadata": {},
     "output_type": "execute_result"
    }
   ],
   "source": [
    "# Вывести на экран названия столбцов с помощью df.columns. Выявить проблемы с названиями, если они есть. При необходимости переименовать столбцы. Если проблемы не обнаружены также дать пояснения.\n",
    "df.columns"
   ]
  },
  {
   "cell_type": "code",
   "execution_count": null,
   "metadata": {
    "id": "QSJBLl4qjjP8"
   },
   "outputs": [],
   "source": [
    "# переименование при необходимости"
   ]
  },
  {
   "cell_type": "markdown",
   "metadata": {},
   "source": [
    "Названия столбцов понятные и без пробелов, поэтому в переименовании нет необходимости"
   ]
  },
  {
   "cell_type": "markdown",
   "metadata": {
    "id": "V0tLQcyrjnA_"
   },
   "source": [
    "### 3. Проверка пропусков"
   ]
  },
  {
   "cell_type": "code",
   "execution_count": null,
   "metadata": {
    "id": "xuTz-Avjj9AW"
   },
   "outputs": [],
   "source": [
    "# Проверить данные на наличие пропусков и устранить их, если они есть (пропуски необходимо либо удалить, либо заменить каким-то значением).\n"
   ]
  },
  {
   "cell_type": "markdown",
   "metadata": {
    "id": "efZ7vgSVkPQH"
   },
   "source": [
    "\n",
    "---\n",
    "\n",
    "**Вы должны аргументировать на защите, почему были выполнены те или иные действия с пропусками, а также знать другие способы работы с пропусками, чтобы\n",
    " ответить на вопросы на защите.**\n",
    "\n",
    "\n",
    " ---"
   ]
  },
  {
   "cell_type": "markdown",
   "metadata": {
    "id": "kkyrXXHikEXk"
   },
   "source": [
    "### 4. Проверка дубликатов"
   ]
  },
  {
   "cell_type": "markdown",
   "metadata": {
    "id": "ImqHvr3okIQ6"
   },
   "source": [
    "#### Проверка явных дубликатов"
   ]
  },
  {
   "cell_type": "code",
   "execution_count": 8,
   "metadata": {
    "id": "qu1oh-e5lDZ1"
   },
   "outputs": [
    {
     "data": {
      "text/plain": [
       "0       False\n",
       "1       False\n",
       "2       False\n",
       "3       False\n",
       "4       False\n",
       "        ...  \n",
       "4339    False\n",
       "4340     True\n",
       "4341     True\n",
       "4342    False\n",
       "4343    False\n",
       "Length: 4344, dtype: bool"
      ]
     },
     "execution_count": 8,
     "metadata": {},
     "output_type": "execute_result"
    }
   ],
   "source": [
    "df.duplicated()"
   ]
  },
  {
   "cell_type": "markdown",
   "metadata": {},
   "source": [
    "Результат метода df.duplicated() показывает для каждой строки DataFrame, является ли она дубликатом предыдущей строки с такими же значениями (True), или уникальной (False).\n",
    "В нашем случае для строк 4340 и 4341 ранее в списке элементов встречался дубликат."
   ]
  },
  {
   "cell_type": "code",
   "execution_count": 16,
   "metadata": {
    "id": "ntArgvChkK26"
   },
   "outputs": [
    {
     "data": {
      "text/plain": [
       "0       False\n",
       "1       False\n",
       "2       False\n",
       "3       False\n",
       "4       False\n",
       "        ...  \n",
       "3576    False\n",
       "3577    False\n",
       "3578    False\n",
       "3579    False\n",
       "3580    False\n",
       "Length: 3581, dtype: bool"
      ]
     },
     "execution_count": 16,
     "metadata": {},
     "output_type": "execute_result"
    }
   ],
   "source": [
    "# удалите дубликаты, если они есть\n",
    "df = df.drop_duplicates().reset_index(drop=True) # удаляем явные дубликаты\n",
    "df.duplicated() # проверяем результат"
   ]
  },
  {
   "cell_type": "markdown",
   "metadata": {
    "id": "VeHTMcOmkLSw"
   },
   "source": [
    "#### Проверка неявных дубликатов"
   ]
  },
  {
   "cell_type": "code",
   "execution_count": 26,
   "metadata": {},
   "outputs": [
    {
     "data": {
      "text/plain": [
       "year\n",
       "2017    347\n",
       "2012    338\n",
       "2015    333\n",
       "2014    322\n",
       "2013    298\n",
       "2018    295\n",
       "2016    283\n",
       "2011    247\n",
       "2010    211\n",
       "2009    169\n",
       "2019    162\n",
       "2008    129\n",
       "2007    117\n",
       "2006     93\n",
       "2005     61\n",
       "2020     45\n",
       "2004     38\n",
       "2003     22\n",
       "2002     18\n",
       "2001     16\n",
       "2000     12\n",
       "1999      9\n",
       "1998      9\n",
       "1997      3\n",
       "1996      2\n",
       "1995      1\n",
       "1992      1\n",
       "Name: count, dtype: int64"
      ]
     },
     "execution_count": 26,
     "metadata": {},
     "output_type": "execute_result"
    }
   ],
   "source": [
    "df['year'].value_counts()"
   ]
  },
  {
   "cell_type": "code",
   "execution_count": 29,
   "metadata": {},
   "outputs": [
    {
     "data": {
      "text/plain": [
       "fuel\n",
       "Diesel      1800\n",
       "Petrol      1719\n",
       "CNG           37\n",
       "LPG           22\n",
       "Petroll        1\n",
       "Electric       1\n",
       "Name: count, dtype: int64"
      ]
     },
     "execution_count": 29,
     "metadata": {},
     "output_type": "execute_result"
    }
   ],
   "source": [
    "df['fuel'].value_counts()"
   ]
  },
  {
   "cell_type": "markdown",
   "metadata": {},
   "source": [
    "Есть дубликат Petroll"
   ]
  },
  {
   "cell_type": "code",
   "execution_count": 30,
   "metadata": {},
   "outputs": [
    {
     "data": {
      "text/plain": [
       "fuel\n",
       "Diesel      1800\n",
       "Petrol      1720\n",
       "CNG           37\n",
       "LPG           22\n",
       "Electric       1\n",
       "Name: count, dtype: int64"
      ]
     },
     "execution_count": 30,
     "metadata": {},
     "output_type": "execute_result"
    }
   ],
   "source": [
    "df['fuel'] = df['fuel'].replace('Petroll', 'Petrol') # удаление дубликата\n",
    "df['fuel'].value_counts() # проверка"
   ]
  },
  {
   "cell_type": "markdown",
   "metadata": {},
   "source": [
    "Успешно удалили дубликат"
   ]
  },
  {
   "cell_type": "code",
   "execution_count": 31,
   "metadata": {},
   "outputs": [
    {
     "data": {
      "text/plain": [
       "seller_Type\n",
       "Individual          2836\n",
       "Dealer               711\n",
       "Trustmark Dealer      33\n",
       "Dealeer                1\n",
       "Name: count, dtype: int64"
      ]
     },
     "execution_count": 31,
     "metadata": {},
     "output_type": "execute_result"
    }
   ],
   "source": [
    "df['seller_Type'].value_counts()"
   ]
  },
  {
   "cell_type": "markdown",
   "metadata": {},
   "source": [
    "Есть дубликат Dealeer"
   ]
  },
  {
   "cell_type": "code",
   "execution_count": 32,
   "metadata": {},
   "outputs": [
    {
     "data": {
      "text/plain": [
       "seller_Type\n",
       "Individual          2836\n",
       "Dealer               712\n",
       "Trustmark Dealer      33\n",
       "Name: count, dtype: int64"
      ]
     },
     "execution_count": 32,
     "metadata": {},
     "output_type": "execute_result"
    }
   ],
   "source": [
    "df['seller_Type'] = df['seller_Type'].replace('Dealeer', 'Dealer') # удаление дубликата\n",
    "df['seller_Type'].value_counts() # проверка"
   ]
  },
  {
   "cell_type": "markdown",
   "metadata": {},
   "source": [
    "Успешно удалили дубликат"
   ]
  },
  {
   "cell_type": "code",
   "execution_count": 34,
   "metadata": {},
   "outputs": [
    {
     "data": {
      "text/plain": [
       "transmission\n",
       "Manual       3269\n",
       "Automatic     312\n",
       "Name: count, dtype: int64"
      ]
     },
     "execution_count": 34,
     "metadata": {},
     "output_type": "execute_result"
    }
   ],
   "source": [
    "df['transmission'].value_counts()"
   ]
  },
  {
   "cell_type": "markdown",
   "metadata": {},
   "source": [
    "Дубликатов нет"
   ]
  },
  {
   "cell_type": "code",
   "execution_count": 35,
   "metadata": {},
   "outputs": [
    {
     "data": {
      "text/plain": [
       "owner\n",
       "First Owner             2220\n",
       "Second Owner             980\n",
       "Third Owner              289\n",
       "Fourth & Above Owner      75\n",
       "Test Drive Car            17\n",
       "Name: count, dtype: int64"
      ]
     },
     "execution_count": 35,
     "metadata": {},
     "output_type": "execute_result"
    }
   ],
   "source": [
    "df['owner'].value_counts()"
   ]
  },
  {
   "cell_type": "markdown",
   "metadata": {},
   "source": [
    "Дубликатов нет"
   ]
  },
  {
   "cell_type": "code",
   "execution_count": null,
   "metadata": {
    "id": "89tMFEQ2k_M7"
   },
   "outputs": [],
   "source": [
    "# удалите дубликаты, если они есть "
   ]
  },
  {
   "cell_type": "markdown",
   "metadata": {},
   "source": [
    "Все дубликаты удалены"
   ]
  },
  {
   "cell_type": "markdown",
   "metadata": {
    "id": "GMcnDpOmlKhU"
   },
   "source": [
    "---\n",
    "\n",
    "**Вы должны аргументировать на защите, почему были выполнены те или иные действия с дубликатами, знать, что такое явные и неявные дубликаты и способы работы с ними, чтобы ответить на вопросы на защите.**\n",
    "\n",
    "\n",
    " ---"
   ]
  },
  {
   "cell_type": "markdown",
   "metadata": {
    "id": "md9GhfYMlbi7"
   },
   "source": [
    "### 5. Провека типов данных"
   ]
  },
  {
   "cell_type": "code",
   "execution_count": 39,
   "metadata": {
    "id": "lXTroENaluCW"
   },
   "outputs": [
    {
     "name": "stdout",
     "output_type": "stream",
     "text": [
      "<class 'pandas.core.frame.DataFrame'>\n",
      "RangeIndex: 3581 entries, 0 to 3580\n",
      "Data columns (total 8 columns):\n",
      " #   Column        Non-Null Count  Dtype  \n",
      "---  ------        --------------  -----  \n",
      " 0   Name          3581 non-null   object \n",
      " 1   year          3581 non-null   int64  \n",
      " 2   SellingPrice  3579 non-null   float64\n",
      " 3   kmdriven      3580 non-null   float64\n",
      " 4   fuel          3580 non-null   object \n",
      " 5   seller_Type   3581 non-null   object \n",
      " 6   transmission  3581 non-null   object \n",
      " 7   owner         3581 non-null   object \n",
      "dtypes: float64(2), int64(1), object(5)\n",
      "memory usage: 223.9+ KB\n"
     ]
    }
   ],
   "source": [
    "df.info() # проверяем типы данных присвоенные столбцам при чтении файла"
   ]
  },
  {
   "cell_type": "code",
   "execution_count": 42,
   "metadata": {
    "id": "WXhXgu29lop3"
   },
   "outputs": [
    {
     "name": "stdout",
     "output_type": "stream",
     "text": [
      "<class 'pandas.core.frame.DataFrame'>\n",
      "RangeIndex: 3581 entries, 0 to 3580\n",
      "Data columns (total 8 columns):\n",
      " #   Column        Non-Null Count  Dtype  \n",
      "---  ------        --------------  -----  \n",
      " 0   Name          3581 non-null   object \n",
      " 1   year          3581 non-null   int64  \n",
      " 2   SellingPrice  3579 non-null   float64\n",
      " 3   kmdriven      3580 non-null   Int64  \n",
      " 4   fuel          3580 non-null   object \n",
      " 5   seller_Type   3581 non-null   object \n",
      " 6   transmission  3581 non-null   object \n",
      " 7   owner         3581 non-null   object \n",
      "dtypes: Int64(1), float64(1), int64(1), object(5)\n",
      "memory usage: 227.4+ KB\n"
     ]
    }
   ],
   "source": [
    "# Проверьте типы данных, при необходимости измените типы данных, чтобы они соответствовали действительности.\n",
    "df['kmdriven'] = df['kmdriven'].astype('Int64')\n",
    "df.info()"
   ]
  },
  {
   "cell_type": "markdown",
   "metadata": {},
   "source": [
    "Был изменён тип данных столбца kmdriven для подсчёта пробега автомоболя в километрах с float на int."
   ]
  },
  {
   "cell_type": "code",
   "execution_count": 43,
   "metadata": {},
   "outputs": [
    {
     "data": {
      "text/plain": [
       "Name            0\n",
       "year            0\n",
       "SellingPrice    2\n",
       "kmdriven        1\n",
       "fuel            1\n",
       "seller_Type     0\n",
       "transmission    0\n",
       "owner           0\n",
       "dtype: int64"
      ]
     },
     "execution_count": 43,
     "metadata": {},
     "output_type": "execute_result"
    }
   ],
   "source": [
    "df.isna().sum() # ищем пропуски"
   ]
  },
  {
   "cell_type": "code",
   "execution_count": 44,
   "metadata": {},
   "outputs": [
    {
     "data": {
      "text/plain": [
       "Name            0\n",
       "year            0\n",
       "SellingPrice    0\n",
       "kmdriven        0\n",
       "fuel            0\n",
       "seller_Type     0\n",
       "transmission    0\n",
       "owner           0\n",
       "dtype: int64"
      ]
     },
     "execution_count": 44,
     "metadata": {},
     "output_type": "execute_result"
    }
   ],
   "source": [
    "df = df.dropna(subset=['SellingPrice', 'kmdriven', 'fuel']) # удаляем все строки с пропусками\n",
    "df.isna().sum() # проверяем удаление пропусков"
   ]
  },
  {
   "cell_type": "markdown",
   "metadata": {},
   "source": [
    "Все пропуски успешно удалены"
   ]
  },
  {
   "cell_type": "markdown",
   "metadata": {
    "id": "DPDBNN4dlx7W"
   },
   "source": [
    "---\n",
    "\n",
    "**Обратите внимание, что во всех вариантах необходимо сделать приведение типов. Будьте готовы на защите аргументировать проверку типов (почему выполнены те или иные преобразования).**\n",
    "\n",
    "\n",
    " ---"
   ]
  },
  {
   "cell_type": "markdown",
   "metadata": {
    "id": "lzr0SgqlnmHy"
   },
   "source": [
    "### 6. Группировка данных"
   ]
  },
  {
   "cell_type": "markdown",
   "metadata": {
    "id": "QG_dbwzfmZoS"
   },
   "source": [
    "#### Задание 1"
   ]
  },
  {
   "cell_type": "markdown",
   "metadata": {
    "id": "CyCKTB4DmciW"
   },
   "source": [
    "*`Формулировка задания`*\n",
    "\n",
    "Группировка - тип владельца (owner) по количеству разных коробок\n",
    "передач (transmission)"
   ]
  },
  {
   "cell_type": "code",
   "execution_count": 56,
   "metadata": {
    "id": "tp8Bl1gumYlI"
   },
   "outputs": [
    {
     "data": {
      "text/plain": [
       "owner                 transmission\n",
       "First Owner           Automatic        227\n",
       "                      Manual          1992\n",
       "Fourth & Above Owner  Automatic          2\n",
       "                      Manual            73\n",
       "Second Owner          Automatic         64\n",
       "                      Manual           915\n",
       "Test Drive Car        Automatic          1\n",
       "                      Manual            16\n",
       "Third Owner           Automatic         18\n",
       "                      Manual           271\n",
       "Name: transmission, dtype: int64"
      ]
     },
     "execution_count": 56,
     "metadata": {},
     "output_type": "execute_result"
    }
   ],
   "source": [
    "# выполните группировку согласно варианту\n",
    "df.groupby(['owner', 'transmission'])['transmission'].count()"
   ]
  },
  {
   "cell_type": "markdown",
   "metadata": {
    "id": "jLmhNuq0mms3"
   },
   "source": [
    "**`Сделайте вывод - интерпретацию - что можно увидеть из результата данной группировки?`**"
   ]
  },
  {
   "cell_type": "markdown",
   "metadata": {},
   "source": [
    "Основные наблюдения:\n",
    "- Наибольшее число автомобилей — это автомобили у первого владельца с ручной коробкой передач (1992 шт.). Это говорит о популярности таких автомобилей среди тех, кто покупает машину \"с нуля\".\n",
    "- Среди первого владельца также заметная доля \"Automatic\" (227), но их почти в 9 раз меньше, чем с ручной трансмиссией.\n",
    "- У второго владельца аналогично: ручных машин (915) значительно больше, чем автоматических (64).\n",
    "- В остальных категориях (Third Owner, Fourth & Above Owner, Test Drive Car) машины с ручной коробкой тоже преобладают над автоматом.\n",
    "- Test Drive Car — довольно редкая категория, где всего 17 автомобилей (1 автомат и 16 ручных).\n",
    "- В целом, машины с ручной трансмиссией встречаются гораздо чаще в каждом сегменте владельцев.\n",
    "\n",
    "Вывод:\n",
    "Рынок подержанных автомобилей данной выборки сильно смещён в сторону ручных трансмиссий, независимо от категории владельца. Автоматическая трансмиссия встречается заметно реже, особенно у автомобилей, переживших смену нескольких владельцев. Это может отражать предпочтения на рынке, доступность и стоимость обслуживания или специфику регионального спроса.\n",
    "\n"
   ]
  },
  {
   "cell_type": "markdown",
   "metadata": {
    "id": "quMr70SmnMXS"
   },
   "source": [
    "---\n",
    "\n",
    "**Обратите внимание, что на защите вы должны ориентироваться в синтаксисе. При необходимости нужно быть готовым изменить код по просьбе преподавателя. Например, вместо среднего значения подсчитать медиану и т.д.**\n",
    "\n",
    "\n",
    " ---"
   ]
  },
  {
   "cell_type": "markdown",
   "metadata": {
    "id": "j0isGCzEne7a"
   },
   "source": [
    "#### Задание 2"
   ]
  },
  {
   "cell_type": "markdown",
   "metadata": {
    "id": "kE2vLBWbne7a"
   },
   "source": [
    "*`Формулировка задания`*\n",
    "\n",
    "Группировка -тип коробки передач (transmission) по количеству разных\n",
    "типов топлива (fuel). Создать датафрейм. Переименовать столбец с количеством в\n",
    "“сount”."
   ]
  },
  {
   "cell_type": "code",
   "execution_count": 63,
   "metadata": {
    "id": "ttn78Zaene7a"
   },
   "outputs": [
    {
     "data": {
      "text/html": [
       "<div>\n",
       "<style scoped>\n",
       "    .dataframe tbody tr th:only-of-type {\n",
       "        vertical-align: middle;\n",
       "    }\n",
       "\n",
       "    .dataframe tbody tr th {\n",
       "        vertical-align: top;\n",
       "    }\n",
       "\n",
       "    .dataframe thead th {\n",
       "        text-align: right;\n",
       "    }\n",
       "</style>\n",
       "<table border=\"1\" class=\"dataframe\">\n",
       "  <thead>\n",
       "    <tr style=\"text-align: right;\">\n",
       "      <th></th>\n",
       "      <th></th>\n",
       "      <th>count</th>\n",
       "    </tr>\n",
       "    <tr>\n",
       "      <th>transmission</th>\n",
       "      <th>fuel</th>\n",
       "      <th></th>\n",
       "    </tr>\n",
       "  </thead>\n",
       "  <tbody>\n",
       "    <tr>\n",
       "      <th rowspan=\"3\" valign=\"top\">Automatic</th>\n",
       "      <th>Diesel</th>\n",
       "      <td>170</td>\n",
       "    </tr>\n",
       "    <tr>\n",
       "      <th>Electric</th>\n",
       "      <td>1</td>\n",
       "    </tr>\n",
       "    <tr>\n",
       "      <th>Petrol</th>\n",
       "      <td>141</td>\n",
       "    </tr>\n",
       "    <tr>\n",
       "      <th rowspan=\"4\" valign=\"top\">Manual</th>\n",
       "      <th>CNG</th>\n",
       "      <td>37</td>\n",
       "    </tr>\n",
       "    <tr>\n",
       "      <th>Diesel</th>\n",
       "      <td>1630</td>\n",
       "    </tr>\n",
       "    <tr>\n",
       "      <th>LPG</th>\n",
       "      <td>22</td>\n",
       "    </tr>\n",
       "    <tr>\n",
       "      <th>Petrol</th>\n",
       "      <td>1578</td>\n",
       "    </tr>\n",
       "  </tbody>\n",
       "</table>\n",
       "</div>"
      ],
      "text/plain": [
       "                       count\n",
       "transmission fuel           \n",
       "Automatic    Diesel      170\n",
       "             Electric      1\n",
       "             Petrol      141\n",
       "Manual       CNG          37\n",
       "             Diesel     1630\n",
       "             LPG          22\n",
       "             Petrol     1578"
      ]
     },
     "execution_count": 63,
     "metadata": {},
     "output_type": "execute_result"
    }
   ],
   "source": [
    "# выполните группировку согласно варианту\n",
    "gr2_series = df.groupby(['transmission', 'fuel'])['fuel'].count()\n",
    "gr2_df = gr2_series.to_frame(name='count')\n",
    "gr2_df"
   ]
  },
  {
   "cell_type": "markdown",
   "metadata": {
    "id": "HCyyeAu6ne7a"
   },
   "source": [
    "**`Сделайте вывод - интерпретацию - что можно увидеть из результата данной группировки?`**"
   ]
  },
  {
   "cell_type": "markdown",
   "metadata": {},
   "source": [
    "Основные наблюдения:\n",
    "- Среди автоматических коробок передач большинство автомобилей используют дизель (170) или бензин (141); электромобилей очень мало (1).\n",
    "- Среди ручных коробок передач ярко выражено преобладание автомобилей на дизельном (1630) и бензиновом (1578) топливе.\n",
    "- Альтернативные виды топлива (CNG, LPG) встречаются редко, только среди автомобилей с ручной коробкой (37 и 22 соответственно).\n",
    "\n",
    "Вывод:\n",
    "Основная масса автомобилей в выборке — это машины с ручной коробкой на дизельном или бензиновом топливе. Автомобили с автоматической трансмиссией встречаются гораздо реже и представлены в основном дизельными и бензиновыми моделями. Авто на альтернативном топливе (CNG, LPG, Electric) составляют незначительную часть рынка и почти все оснащены ручными коробками передач."
   ]
  },
  {
   "cell_type": "markdown",
   "metadata": {
    "id": "NKLZ0m7Nne7b"
   },
   "source": [
    "---\n",
    "\n",
    "**Обратите внимание, что на защите вы должны ориентироваться в синтаксисе. При необходимости нужно быть готовым изменить код по просьбе преподавателя. Например, вместо среднего значения подсчитать медиану и т.д.**\n",
    "\n",
    "\n",
    " ---"
   ]
  },
  {
   "cell_type": "markdown",
   "metadata": {
    "id": "_3fHGp64nhUJ"
   },
   "source": [
    "#### Задание 3"
   ]
  },
  {
   "cell_type": "markdown",
   "metadata": {
    "id": "_Bc4ehyKnhUJ"
   },
   "source": [
    "*`Формулировка задания`*\n",
    "\n",
    "Сводная таблица (pivot_table) - средняя цена для каждого типа\n",
    "владельца owner. Отсортировать по убыванию. Округлить до двух знаков"
   ]
  },
  {
   "cell_type": "code",
   "execution_count": 66,
   "metadata": {
    "id": "siDovPvQnhUJ"
   },
   "outputs": [
    {
     "data": {
      "text/html": [
       "<div>\n",
       "<style scoped>\n",
       "    .dataframe tbody tr th:only-of-type {\n",
       "        vertical-align: middle;\n",
       "    }\n",
       "\n",
       "    .dataframe tbody tr th {\n",
       "        vertical-align: top;\n",
       "    }\n",
       "\n",
       "    .dataframe thead th {\n",
       "        text-align: right;\n",
       "    }\n",
       "</style>\n",
       "<table border=\"1\" class=\"dataframe\">\n",
       "  <thead>\n",
       "    <tr style=\"text-align: right;\">\n",
       "      <th></th>\n",
       "      <th>SellingPrice</th>\n",
       "    </tr>\n",
       "    <tr>\n",
       "      <th>owner</th>\n",
       "      <th></th>\n",
       "    </tr>\n",
       "  </thead>\n",
       "  <tbody>\n",
       "    <tr>\n",
       "      <th>Test Drive Car</th>\n",
       "      <td>954293.94</td>\n",
       "    </tr>\n",
       "    <tr>\n",
       "      <th>First Owner</th>\n",
       "      <td>565513.71</td>\n",
       "    </tr>\n",
       "    <tr>\n",
       "      <th>Second Owner</th>\n",
       "      <td>341850.00</td>\n",
       "    </tr>\n",
       "    <tr>\n",
       "      <th>Third Owner</th>\n",
       "      <td>266142.21</td>\n",
       "    </tr>\n",
       "    <tr>\n",
       "      <th>Fourth &amp; Above Owner</th>\n",
       "      <td>181213.29</td>\n",
       "    </tr>\n",
       "  </tbody>\n",
       "</table>\n",
       "</div>"
      ],
      "text/plain": [
       "                      SellingPrice\n",
       "owner                             \n",
       "Test Drive Car           954293.94\n",
       "First Owner              565513.71\n",
       "Second Owner             341850.00\n",
       "Third Owner              266142.21\n",
       "Fourth & Above Owner     181213.29"
      ]
     },
     "execution_count": 66,
     "metadata": {},
     "output_type": "execute_result"
    }
   ],
   "source": [
    "# выполните сводную таблицу согласно варианту\n",
    "\n",
    "df.pivot_table(\n",
    "    values='SellingPrice',\n",
    "    index='owner',\n",
    "    aggfunc='mean'\n",
    ").sort_values(by='SellingPrice', ascending=False).round(2)"
   ]
  },
  {
   "cell_type": "markdown",
   "metadata": {
    "id": "1-vw8iyUnhUK"
   },
   "source": [
    "**`Сделайте вывод - интерпретацию - что можно увидеть из результата данной сводной таблицы?`**\n",
    "\n",
    "Сводная таблица показывает, что максимальная средняя цена у автомобилей категории \"Test Drive Car\". Самые дорогие авто чаще всего принадлежат первому владельцу, а стоимость заметно снижается с каждым последующим владельцем. Минимальная средняя цена — у машин, находящихся в собственности четвертого и более владельца."
   ]
  },
  {
   "cell_type": "markdown",
   "metadata": {
    "id": "wKFm0zDenhUK"
   },
   "source": [
    "---\n",
    "\n",
    "**Обратите внимание, что на защите вы должны ориентироваться в синтаксисе. При необходимости нужно быть готовым изменить код по просьбе преподавателя. Например, вместо среднего значения подсчитать медиану и т.д.**\n",
    "\n",
    "\n",
    " ---"
   ]
  },
  {
   "cell_type": "markdown",
   "metadata": {
    "id": "FOlw74xCniNo"
   },
   "source": [
    "#### Задание 4"
   ]
  },
  {
   "cell_type": "markdown",
   "metadata": {
    "id": "4tvYwT25niNq"
   },
   "source": [
    "*`Формулировка задания`*\n",
    "\n",
    "Сводная таблица (pivot_table) - среднее количество пройденных\n",
    "километров для каждого года - строки и типа владельца - owner - столбцы.\n",
    "Отсортировать по возрастанию year. Округлить до двух знаков"
   ]
  },
  {
   "cell_type": "code",
   "execution_count": 67,
   "metadata": {
    "id": "TfJ719g6niNq"
   },
   "outputs": [
    {
     "data": {
      "text/html": [
       "<div>\n",
       "<style scoped>\n",
       "    .dataframe tbody tr th:only-of-type {\n",
       "        vertical-align: middle;\n",
       "    }\n",
       "\n",
       "    .dataframe tbody tr th {\n",
       "        vertical-align: top;\n",
       "    }\n",
       "\n",
       "    .dataframe thead th {\n",
       "        text-align: right;\n",
       "    }\n",
       "</style>\n",
       "<table border=\"1\" class=\"dataframe\">\n",
       "  <thead>\n",
       "    <tr style=\"text-align: right;\">\n",
       "      <th>owner</th>\n",
       "      <th>First Owner</th>\n",
       "      <th>Fourth &amp; Above Owner</th>\n",
       "      <th>Second Owner</th>\n",
       "      <th>Test Drive Car</th>\n",
       "      <th>Third Owner</th>\n",
       "    </tr>\n",
       "    <tr>\n",
       "      <th>year</th>\n",
       "      <th></th>\n",
       "      <th></th>\n",
       "      <th></th>\n",
       "      <th></th>\n",
       "      <th></th>\n",
       "    </tr>\n",
       "  </thead>\n",
       "  <tbody>\n",
       "    <tr>\n",
       "      <th>1992</th>\n",
       "      <td>&lt;NA&gt;</td>\n",
       "      <td>100000.0</td>\n",
       "      <td>&lt;NA&gt;</td>\n",
       "      <td>&lt;NA&gt;</td>\n",
       "      <td>&lt;NA&gt;</td>\n",
       "    </tr>\n",
       "    <tr>\n",
       "      <th>1995</th>\n",
       "      <td>&lt;NA&gt;</td>\n",
       "      <td>&lt;NA&gt;</td>\n",
       "      <td>100000.0</td>\n",
       "      <td>&lt;NA&gt;</td>\n",
       "      <td>&lt;NA&gt;</td>\n",
       "    </tr>\n",
       "    <tr>\n",
       "      <th>1996</th>\n",
       "      <td>60000.0</td>\n",
       "      <td>&lt;NA&gt;</td>\n",
       "      <td>35000.0</td>\n",
       "      <td>&lt;NA&gt;</td>\n",
       "      <td>&lt;NA&gt;</td>\n",
       "    </tr>\n",
       "    <tr>\n",
       "      <th>1997</th>\n",
       "      <td>70000.0</td>\n",
       "      <td>&lt;NA&gt;</td>\n",
       "      <td>80000.0</td>\n",
       "      <td>&lt;NA&gt;</td>\n",
       "      <td>120000.0</td>\n",
       "    </tr>\n",
       "    <tr>\n",
       "      <th>1998</th>\n",
       "      <td>&lt;NA&gt;</td>\n",
       "      <td>60000.0</td>\n",
       "      <td>76000.0</td>\n",
       "      <td>&lt;NA&gt;</td>\n",
       "      <td>65000.0</td>\n",
       "    </tr>\n",
       "    <tr>\n",
       "      <th>1999</th>\n",
       "      <td>70000.0</td>\n",
       "      <td>80000.0</td>\n",
       "      <td>65404.0</td>\n",
       "      <td>&lt;NA&gt;</td>\n",
       "      <td>50000.0</td>\n",
       "    </tr>\n",
       "    <tr>\n",
       "      <th>2000</th>\n",
       "      <td>77500.0</td>\n",
       "      <td>74250.0</td>\n",
       "      <td>77500.0</td>\n",
       "      <td>&lt;NA&gt;</td>\n",
       "      <td>41371.5</td>\n",
       "    </tr>\n",
       "    <tr>\n",
       "      <th>2001</th>\n",
       "      <td>106500.0</td>\n",
       "      <td>97000.0</td>\n",
       "      <td>95107.8</td>\n",
       "      <td>&lt;NA&gt;</td>\n",
       "      <td>64893.17</td>\n",
       "    </tr>\n",
       "    <tr>\n",
       "      <th>2002</th>\n",
       "      <td>76000.0</td>\n",
       "      <td>80000.0</td>\n",
       "      <td>87200.0</td>\n",
       "      <td>&lt;NA&gt;</td>\n",
       "      <td>86000.0</td>\n",
       "    </tr>\n",
       "    <tr>\n",
       "      <th>2003</th>\n",
       "      <td>55683.0</td>\n",
       "      <td>66666.67</td>\n",
       "      <td>98849.36</td>\n",
       "      <td>&lt;NA&gt;</td>\n",
       "      <td>100000.0</td>\n",
       "    </tr>\n",
       "    <tr>\n",
       "      <th>2004</th>\n",
       "      <td>79765.0</td>\n",
       "      <td>112750.0</td>\n",
       "      <td>91819.53</td>\n",
       "      <td>&lt;NA&gt;</td>\n",
       "      <td>95971.38</td>\n",
       "    </tr>\n",
       "    <tr>\n",
       "      <th>2005</th>\n",
       "      <td>79471.11</td>\n",
       "      <td>96322.5</td>\n",
       "      <td>79573.69</td>\n",
       "      <td>&lt;NA&gt;</td>\n",
       "      <td>119250.0</td>\n",
       "    </tr>\n",
       "    <tr>\n",
       "      <th>2006</th>\n",
       "      <td>95359.96</td>\n",
       "      <td>131848.8</td>\n",
       "      <td>94371.49</td>\n",
       "      <td>&lt;NA&gt;</td>\n",
       "      <td>120940.91</td>\n",
       "    </tr>\n",
       "    <tr>\n",
       "      <th>2007</th>\n",
       "      <td>86642.75</td>\n",
       "      <td>121555.56</td>\n",
       "      <td>87837.78</td>\n",
       "      <td>&lt;NA&gt;</td>\n",
       "      <td>101705.88</td>\n",
       "    </tr>\n",
       "    <tr>\n",
       "      <th>2008</th>\n",
       "      <td>79704.8</td>\n",
       "      <td>92500.0</td>\n",
       "      <td>86452.8</td>\n",
       "      <td>&lt;NA&gt;</td>\n",
       "      <td>108434.48</td>\n",
       "    </tr>\n",
       "    <tr>\n",
       "      <th>2009</th>\n",
       "      <td>97589.32</td>\n",
       "      <td>100000.0</td>\n",
       "      <td>94676.42</td>\n",
       "      <td>&lt;NA&gt;</td>\n",
       "      <td>98945.19</td>\n",
       "    </tr>\n",
       "    <tr>\n",
       "      <th>2010</th>\n",
       "      <td>78574.27</td>\n",
       "      <td>113000.0</td>\n",
       "      <td>98071.17</td>\n",
       "      <td>&lt;NA&gt;</td>\n",
       "      <td>114209.68</td>\n",
       "    </tr>\n",
       "    <tr>\n",
       "      <th>2011</th>\n",
       "      <td>81739.28</td>\n",
       "      <td>113175.0</td>\n",
       "      <td>96894.24</td>\n",
       "      <td>&lt;NA&gt;</td>\n",
       "      <td>99437.5</td>\n",
       "    </tr>\n",
       "    <tr>\n",
       "      <th>2012</th>\n",
       "      <td>82938.14</td>\n",
       "      <td>104333.33</td>\n",
       "      <td>86577.36</td>\n",
       "      <td>&lt;NA&gt;</td>\n",
       "      <td>98896.4</td>\n",
       "    </tr>\n",
       "    <tr>\n",
       "      <th>2013</th>\n",
       "      <td>73645.42</td>\n",
       "      <td>85000.0</td>\n",
       "      <td>81519.06</td>\n",
       "      <td>&lt;NA&gt;</td>\n",
       "      <td>82250.0</td>\n",
       "    </tr>\n",
       "    <tr>\n",
       "      <th>2014</th>\n",
       "      <td>68922.05</td>\n",
       "      <td>113000.0</td>\n",
       "      <td>85446.54</td>\n",
       "      <td>&lt;NA&gt;</td>\n",
       "      <td>108166.67</td>\n",
       "    </tr>\n",
       "    <tr>\n",
       "      <th>2015</th>\n",
       "      <td>61263.24</td>\n",
       "      <td>120000.0</td>\n",
       "      <td>69200.24</td>\n",
       "      <td>&lt;NA&gt;</td>\n",
       "      <td>82500.0</td>\n",
       "    </tr>\n",
       "    <tr>\n",
       "      <th>2016</th>\n",
       "      <td>56888.35</td>\n",
       "      <td>&lt;NA&gt;</td>\n",
       "      <td>59843.57</td>\n",
       "      <td>&lt;NA&gt;</td>\n",
       "      <td>71600.0</td>\n",
       "    </tr>\n",
       "    <tr>\n",
       "      <th>2017</th>\n",
       "      <td>43108.69</td>\n",
       "      <td>50000.0</td>\n",
       "      <td>42005.85</td>\n",
       "      <td>24585.0</td>\n",
       "      <td>57000.0</td>\n",
       "    </tr>\n",
       "    <tr>\n",
       "      <th>2018</th>\n",
       "      <td>28434.67</td>\n",
       "      <td>&lt;NA&gt;</td>\n",
       "      <td>30289.65</td>\n",
       "      <td>13000.0</td>\n",
       "      <td>38900.0</td>\n",
       "    </tr>\n",
       "    <tr>\n",
       "      <th>2019</th>\n",
       "      <td>19363.53</td>\n",
       "      <td>&lt;NA&gt;</td>\n",
       "      <td>40400.0</td>\n",
       "      <td>7855.33</td>\n",
       "      <td>15000.0</td>\n",
       "    </tr>\n",
       "    <tr>\n",
       "      <th>2020</th>\n",
       "      <td>15084.38</td>\n",
       "      <td>1100.0</td>\n",
       "      <td>&lt;NA&gt;</td>\n",
       "      <td>790.33</td>\n",
       "      <td>&lt;NA&gt;</td>\n",
       "    </tr>\n",
       "  </tbody>\n",
       "</table>\n",
       "</div>"
      ],
      "text/plain": [
       "owner  First Owner  Fourth & Above Owner  Second Owner  Test Drive Car  \\\n",
       "year                                                                     \n",
       "1992          <NA>              100000.0          <NA>            <NA>   \n",
       "1995          <NA>                  <NA>      100000.0            <NA>   \n",
       "1996       60000.0                  <NA>       35000.0            <NA>   \n",
       "1997       70000.0                  <NA>       80000.0            <NA>   \n",
       "1998          <NA>               60000.0       76000.0            <NA>   \n",
       "1999       70000.0               80000.0       65404.0            <NA>   \n",
       "2000       77500.0               74250.0       77500.0            <NA>   \n",
       "2001      106500.0               97000.0       95107.8            <NA>   \n",
       "2002       76000.0               80000.0       87200.0            <NA>   \n",
       "2003       55683.0              66666.67      98849.36            <NA>   \n",
       "2004       79765.0              112750.0      91819.53            <NA>   \n",
       "2005      79471.11               96322.5      79573.69            <NA>   \n",
       "2006      95359.96              131848.8      94371.49            <NA>   \n",
       "2007      86642.75             121555.56      87837.78            <NA>   \n",
       "2008       79704.8               92500.0       86452.8            <NA>   \n",
       "2009      97589.32              100000.0      94676.42            <NA>   \n",
       "2010      78574.27              113000.0      98071.17            <NA>   \n",
       "2011      81739.28              113175.0      96894.24            <NA>   \n",
       "2012      82938.14             104333.33      86577.36            <NA>   \n",
       "2013      73645.42               85000.0      81519.06            <NA>   \n",
       "2014      68922.05              113000.0      85446.54            <NA>   \n",
       "2015      61263.24              120000.0      69200.24            <NA>   \n",
       "2016      56888.35                  <NA>      59843.57            <NA>   \n",
       "2017      43108.69               50000.0      42005.85         24585.0   \n",
       "2018      28434.67                  <NA>      30289.65         13000.0   \n",
       "2019      19363.53                  <NA>       40400.0         7855.33   \n",
       "2020      15084.38                1100.0          <NA>          790.33   \n",
       "\n",
       "owner  Third Owner  \n",
       "year                \n",
       "1992          <NA>  \n",
       "1995          <NA>  \n",
       "1996          <NA>  \n",
       "1997      120000.0  \n",
       "1998       65000.0  \n",
       "1999       50000.0  \n",
       "2000       41371.5  \n",
       "2001      64893.17  \n",
       "2002       86000.0  \n",
       "2003      100000.0  \n",
       "2004      95971.38  \n",
       "2005      119250.0  \n",
       "2006     120940.91  \n",
       "2007     101705.88  \n",
       "2008     108434.48  \n",
       "2009      98945.19  \n",
       "2010     114209.68  \n",
       "2011       99437.5  \n",
       "2012       98896.4  \n",
       "2013       82250.0  \n",
       "2014     108166.67  \n",
       "2015       82500.0  \n",
       "2016       71600.0  \n",
       "2017       57000.0  \n",
       "2018       38900.0  \n",
       "2019       15000.0  \n",
       "2020          <NA>  "
      ]
     },
     "execution_count": 67,
     "metadata": {},
     "output_type": "execute_result"
    }
   ],
   "source": [
    "# выполните сводную таблицу согласно варианту\n",
    "\n",
    "df.pivot_table(\n",
    "    values='kmdriven',\n",
    "    index='year',\n",
    "    columns='owner',\n",
    "    aggfunc='mean'\n",
    ").sort_index().round(2)"
   ]
  },
  {
   "cell_type": "markdown",
   "metadata": {
    "id": "yqJqvk5qniNr"
   },
   "source": [
    "**`Сделайте вывод - интерпретацию - что можно увидеть из результата выполнения данного кода?`**\n",
    "\n",
    "Основные выводы:\n",
    "- По мере уменьшения года выпуска авто (т.е. с развитием по строкам вверх), средний пробег возрастает у всех типов владельцев. Это ожидаемо, ведь старые автомобили эксплуатировались дольше и прошли больше километров.\n",
    "- Для машин от первого владельца средний пробег постепенно снижается с 100 000 (старые года) до около 15 000 км для самых новых машин 2020 года. Это типичная ситуация: новые авто продаются с небольшим пробегом, а старые — с большим.\n",
    "- У автомобилей «Fourth & Above Owner» пробег всегда выше, чем у машин первого или второго владельца — в среднем эта категория включает машины, которые уже активно эксплуатировались и часто переходили из рук в руки.\n",
    "- Автомобили, проданные вторым владельцем, также имеют обычно значительный пробег, но чуть меньше, чем у четвертого и более владельца.\n",
    "- «Test Drive Car» и «Third Owner» чаще имеют более низкий или нестабильный пробег, значения встречаются реже и зачастую ниже, что, возможно, связано с малым количеством таких машин в выборке.\n",
    "- В целом чётко прослеживается тренд: чем старше год выпуска и чем больше хозяев было у машины — тем выше средний пробег.\n",
    "\n",
    "Итог:\n",
    "Таблица позволяет выявить зависимость пробега как от возраста авто, так и от типа владельца. Это важно для анализа рынка подержанных автомобилей — видно, что самые «свежие» и наименее эксплуатированные машины получают новые владельцы, а активно эксплуатируемые авто чаще переходят к следующим владельцам и имеют больший пробег.\n",
    "\n"
   ]
  },
  {
   "cell_type": "markdown",
   "metadata": {
    "id": "tIkuqJKUniNs"
   },
   "source": [
    "---\n",
    "\n",
    "**Обратите внимание, что на защите вы должны ориентироваться в синтаксисе. При необходимости нужно быть готовым изменить код по просьбе преподавателя. Например, вместо среднего значения подсчитать медиану и т.д.**\n",
    "\n",
    "\n",
    " ---"
   ]
  },
  {
   "cell_type": "markdown",
   "metadata": {
    "id": "TpnXb6gip3S8"
   },
   "source": [
    "### Вывод"
   ]
  },
  {
   "cell_type": "markdown",
   "metadata": {
    "id": "nqLa096jM1Z8"
   },
   "source": [
    "\n",
    "***`Сделать расширенный вывод. `***\n",
    "\n",
    "В ходе исследования анализировался набор данных, описывающий подержанные автомобили с такими характеристиками, как год выпуска, тип владельца, пробег, тип топлива, тип коробки передач, цена и другие параметры. Предметная область — рынок подержанных автомобилей.\n",
    "\n",
    "Для анализа была проведена предварительная обработка данных, включающая:\n",
    "- загрузку и чтение CSV-файла в pandas DataFrame,\n",
    "- проверку наличия дублей и пропусков,\n",
    "- изучение типов данных,\n",
    "- преобразование типов данных для корректного анализа,\n",
    "- систематический осмотр с помощью методов `info()` и `describe()`.\n",
    "\n",
    "Дальнейший анализ включал группировки и построение сводных таблиц (`groupby()` и `pivot_table()`), где были исследованы следующие аспекты:\n",
    "\n",
    "- Средняя цена автомобилей для разных категорий владельцев показала, что машины категории \"Test Drive Car\" и \"First Owner\" имеют самые высокие средние цены, а цена снижалась у машин с большим числом прежних владельцев.\n",
    "- Распределение автомобилей по типам коробки передач и типам владельцев выявило, что большинство машин оснащены ручной коробкой передач, причем их значительно больше среди первых и вторых владельцев. Автомобили с автоматической трансмиссией и альтернативными видами топлива встречаются реже.\n",
    "- Анализ пробега по годам выпуска и типам владельцев показал закономерность: чем старше автомобиль и чем больше у него владельцев, тем выше средний пробег автомобиля. Новые машины и тест-драйвовые автомобили имеют минимальный пробег соответственно.\n",
    "- Были рассмотрены выбросы и вариативность значений средних, медианных показателей, что помогло понять, что цены и пробеги различаются значительно в зависимости от возраста и истории автомобиля.\n",
    "\n",
    "Таким образом, исследование позволило структурировать и визуализировать основные характеристики рынка подержанных автомобилей, выявить подъемы и спады по ценам и пробегу в зависимости от категории владельцев, типов трансмиссии и топлива. Результаты могут быть полезны для оценки состояния автомобиля, планирования покупки-продажи и более глубокого понимания динамики вторичного автомобильного рынка."
   ]
  },
  {
   "cell_type": "markdown",
   "metadata": {
    "id": "Sn3y7og_vjGG"
   },
   "source": [
    "### Дополнительное задание"
   ]
  },
  {
   "cell_type": "markdown",
   "metadata": {
    "id": "rR6WgHXYvlqD"
   },
   "source": [
    "**`Подробная формулировка задания`**"
   ]
  },
  {
   "cell_type": "code",
   "execution_count": null,
   "metadata": {
    "id": "wG5TGQpevlBq"
   },
   "outputs": [],
   "source": [
    "# код выполнения задания"
   ]
  },
  {
   "cell_type": "markdown",
   "metadata": {
    "id": "y-qpTuhTvon3"
   },
   "source": [
    "***`Подробный вывод по заданию, описание полученных результатов`***"
   ]
  }
 ],
 "metadata": {
  "colab": {
   "provenance": []
  },
  "kernelspec": {
   "display_name": "Python 3 (ipykernel)",
   "language": "python",
   "name": "python3"
  },
  "language_info": {
   "codemirror_mode": {
    "name": "ipython",
    "version": 3
   },
   "file_extension": ".py",
   "mimetype": "text/x-python",
   "name": "python",
   "nbconvert_exporter": "python",
   "pygments_lexer": "ipython3",
   "version": "3.13.7"
  }
 },
 "nbformat": 4,
 "nbformat_minor": 4
}
